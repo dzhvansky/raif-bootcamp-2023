{
 "cells": [
  {
   "cell_type": "code",
   "execution_count": 2,
   "id": "72fd2bd3",
   "metadata": {
    "ExecuteTime": {
     "end_time": "2023-04-15T07:02:23.943078Z",
     "start_time": "2023-04-15T07:02:02.525196Z"
    }
   },
   "outputs": [],
   "source": [
    "%load_ext autoreload\n",
    "%autoreload 2\n",
    "\n",
    "import os\n",
    "import pathlib\n",
    "import operator\n",
    "import math\n",
    "import json\n",
    "import re\n",
    "import datetime\n",
    "import typing\n",
    "import functools\n",
    "import collections\n",
    "import pickle\n",
    "\n",
    "import numpy as np\n",
    "import pandas as pd\n",
    "import cv2\n",
    "from PIL import Image\n",
    "from tqdm import tqdm\n",
    "\n",
    "import matplotlib.pyplot as plt\n",
    "\n",
    "from lightgbm import LGBMRegressor\n",
    "from sklearn.metrics import mean_squared_error, mean_squared_log_error\n",
    "from sklearn.linear_model import Ridge, ElasticNet\n",
    "from sklearn.ensemble import RandomForestRegressor\n",
    "from sklearn.pipeline import Pipeline\n",
    "from sklearn.preprocessing import StandardScaler\n",
    "from sklearn.model_selection import train_test_split, StratifiedKFold, cross_validate\n",
    "\n",
    "import onnx\n",
    "import onnxruntime\n",
    "import torch\n",
    "import torchvision\n",
    "\n",
    "from torchvision.models import resnet50, mobilenetv3\n",
    "from torchvision.models.feature_extraction import get_graph_node_names\n",
    "from torchvision.models.feature_extraction import create_feature_extractor\n",
    "\n",
    "from painting_estimation.images.utils import image_size, ImgSize\n",
    "from painting_estimation.images.preprocessing import ImagePreprocessor\n",
    "from painting_estimation.inference.inference import ONNXModel"
   ]
  },
  {
   "cell_type": "code",
   "execution_count": 5,
   "id": "0757f580",
   "metadata": {
    "ExecuteTime": {
     "end_time": "2023-04-15T07:02:28.518734Z",
     "start_time": "2023-04-15T07:02:28.452325Z"
    }
   },
   "outputs": [],
   "source": [
    "MODEL_PATH = pathlib.Path.cwd().parent / \"models\"\n",
    "DATA_PATH = pathlib.Path.cwd().parent / \"data\""
   ]
  },
  {
   "cell_type": "code",
   "execution_count": 4,
   "id": "6397b29f",
   "metadata": {
    "ExecuteTime": {
     "end_time": "2023-04-15T07:02:24.071118Z",
     "start_time": "2023-04-15T07:02:24.004950Z"
    }
   },
   "outputs": [],
   "source": [
    "EFF_NET_B3 = MODEL_PATH / \"eff_net_b3.onnx\""
   ]
  },
  {
   "cell_type": "code",
   "execution_count": 7,
   "id": "a4a745e7",
   "metadata": {
    "ExecuteTime": {
     "end_time": "2023-04-15T07:04:35.543587Z",
     "start_time": "2023-04-15T07:04:34.760642Z"
    }
   },
   "outputs": [],
   "source": [
    "train_path = DATA_PATH / \"from_me\" / \"artsynet\"\n",
    "\n",
    "train_anno = pd.read_csv(train_path / \"artsynet.csv\", index_col=0)\n",
    "train_data = sorted((train_path / \"images\").glob(\"*.jpg\"), key=lambda x: int(x.stem.rsplit(\"-\", 1)[1]))"
   ]
  },
  {
   "cell_type": "code",
   "execution_count": 11,
   "id": "3ecafd8b",
   "metadata": {
    "ExecuteTime": {
     "end_time": "2023-04-15T07:05:17.932300Z",
     "start_time": "2023-04-15T07:05:17.848627Z"
    }
   },
   "outputs": [],
   "source": [
    "EFF_NET_PREPROCESSOR = ImagePreprocessor(\n",
    "    target_size=ImgSize(width=300, height=300),\n",
    "    target_dim_order=(2, 0 ,1),\n",
    "    target_dtype=np.float32,\n",
    "    interpolation=cv2.INTER_LINEAR,\n",
    "    to_bgr=False,\n",
    "    extra_batch_dim=0,\n",
    "    normalize=True,\n",
    "    means=(0.485, 0.456, 0.406),\n",
    "    stds=(0.229, 0.224, 0.225),\n",
    "    initial_size_before_crop=ImgSize(width=320, height=320),\n",
    ")"
   ]
  },
  {
   "cell_type": "code",
   "execution_count": 12,
   "id": "bd232767",
   "metadata": {
    "ExecuteTime": {
     "end_time": "2023-04-15T07:05:25.504814Z",
     "start_time": "2023-04-15T07:05:25.067819Z"
    }
   },
   "outputs": [],
   "source": [
    "EFF_NET_EXTRACTOR = ONNXModel(EFF_NET_B3) "
   ]
  },
  {
   "cell_type": "code",
   "execution_count": 13,
   "id": "64750a07",
   "metadata": {
    "ExecuteTime": {
     "end_time": "2023-04-15T07:06:31.299987Z",
     "start_time": "2023-04-15T07:06:31.247756Z"
    }
   },
   "outputs": [],
   "source": [
    "AXIS = 0, 1\n",
    "QUANTILES = [0.1, 0.25, 0.5, 0.75, 0.9]\n",
    "\n",
    "def regular_features(img):\n",
    "    img_size = image_size(img)\n",
    "    \n",
    "    features = []\n",
    "    features.extend(img.mean(AXIS).tolist())\n",
    "    features.extend(img.std(AXIS).tolist())\n",
    "    features.extend(np.quantile(img, q=QUANTILES, axis=AXIS).ravel().tolist())\n",
    "    \n",
    "    return features"
   ]
  },
  {
   "cell_type": "code",
   "execution_count": 19,
   "id": "5e818755",
   "metadata": {
    "ExecuteTime": {
     "end_time": "2023-04-15T07:08:28.719333Z",
     "start_time": "2023-04-15T07:08:28.656608Z"
    }
   },
   "outputs": [],
   "source": [
    "def add_target(train_anno: pd.DataFrame) -> pd.DataFrame:\n",
    "    range_mask = train_anno[\"sale_message\"].str.find(\"–\").ne(-1)\n",
    "\n",
    "    train_anno[\"price1\"] = \"min\"\n",
    "    train_anno[\"price2\"] = \"max\"\n",
    "    train_anno[\"p1\"] = 0.0\n",
    "    train_anno[\"p2\"] = 0.0\n",
    "\n",
    "    train_anno[\"price_range\"] = train_anno[\"sale_message\"].str.split(\"–\")\n",
    "\n",
    "    train_anno.loc[range_mask, \"price1\"] = train_anno.loc[range_mask, \"price_range\"].transform(operator.itemgetter(0))\n",
    "    train_anno.loc[range_mask, \"price2\"] = train_anno.loc[range_mask, \"price_range\"].transform(operator.itemgetter(1))\n",
    "\n",
    "    train_anno.loc[~range_mask, \"price2\"] = train_anno.loc[~range_mask, \"price_range\"].transform(\n",
    "        operator.itemgetter(0)\n",
    "    )\n",
    "\n",
    "    invalid_mask = train_anno[\"price2\"].astype(bool)\n",
    "\n",
    "    for ccy, coef in zip([\"US$\", \"€\", \"£\"], [1.0, 1.1, 1.3]):\n",
    "        ccy_mask = train_anno[\"price2\"].str.startswith(ccy)\n",
    "        invalid_mask &= ~ccy_mask\n",
    "        train_anno.loc[ccy_mask, \"p2\"] = \\\n",
    "        train_anno.loc[ccy_mask, \"price2\"].str.strip(ccy).str.replace(\",\", \"\").replace(\".\", \"\").astype(float)\n",
    "        ccy_range_mask = ccy_mask & range_mask\n",
    "        train_anno.loc[ccy_range_mask, \"p1\"] = \\\n",
    "        train_anno.loc[ccy_range_mask, \"price1\"].str.strip(ccy).str.replace(\",\", \"\").replace(\".\", \"\").astype(float)\n",
    "\n",
    "        train_anno.loc[ccy_range_mask, \"p2\"] += train_anno.loc[ccy_range_mask, \"p1\"]\n",
    "        train_anno.loc[ccy_range_mask, \"p2\"] /= 2\n",
    "\n",
    "        train_anno.loc[ccy_mask, \"p2\"] *= coef\n",
    "        \n",
    "    train_anno[\"target\"] = train_anno[\"p2\"].values\n",
    "    train_anno[\"invalid\"] = invalid_mask\n",
    "    \n",
    "    return train_anno"
   ]
  },
  {
   "cell_type": "code",
   "execution_count": 20,
   "id": "442b0d35",
   "metadata": {
    "ExecuteTime": {
     "end_time": "2023-04-15T07:08:37.896758Z",
     "start_time": "2023-04-15T07:08:37.840009Z"
    }
   },
   "outputs": [],
   "source": [
    "def extract_features_target(train_anno, train_path, preprocessor, feature_extractor):\n",
    "    \n",
    "    train_anno = add_target(train_anno)\n",
    "    \n",
    "    X = []\n",
    "    X_add = []\n",
    "    y = []\n",
    "    visited = set()\n",
    "    \n",
    "    for p, t, not_valid in tqdm(\n",
    "        zip(train_anno[\"local_image\"], train_anno[\"target\"], train_anno[\"invalid\"]), total=len(train_anno)\n",
    "    ):\n",
    "        \n",
    "        if not_valid or p in visited:\n",
    "            continue\n",
    "            \n",
    "        path = train_path / \"images\" / p\n",
    "        img = cv2.imread(str(path))\n",
    "        if img is None:\n",
    "            continue\n",
    "        \n",
    "        # RGB\n",
    "        img = cv2.cvtColor(img, cv2.COLOR_BGR2RGB)\n",
    "        \n",
    "        features = feature_extractor(preprocessor(img))\n",
    "        X.append(features.ravel())\n",
    "        X_add.append(regular_features(img))\n",
    "        y.append(t)\n",
    "        \n",
    "        visited.add(p)\n",
    "        \n",
    "    X = np.concatenate([np.asarray(X), np.asarray(X_add)], axis=1)\n",
    "    y = np.asarray(y)\n",
    "    \n",
    "    return X, y"
   ]
  },
  {
   "cell_type": "code",
   "execution_count": 21,
   "id": "7c63732e",
   "metadata": {
    "ExecuteTime": {
     "end_time": "2023-04-15T07:47:03.388675Z",
     "start_time": "2023-04-15T07:08:40.681966Z"
    }
   },
   "outputs": [
    {
     "name": "stderr",
     "output_type": "stream",
     "text": [
      "100%|██████████████████████████████████████████████████████████████████████████████████████████████████████████████████████| 20580/20580 [38:22<00:00,  8.94it/s]\n"
     ]
    }
   ],
   "source": [
    "X, y = extract_features_target(\n",
    "    train_anno, \n",
    "    train_path, \n",
    "    preprocessor=EFF_NET_PREPROCESSOR, \n",
    "    feature_extractor=EFF_NET_EXTRACTOR,\n",
    ")"
   ]
  },
  {
   "cell_type": "code",
   "execution_count": 22,
   "id": "648b5195",
   "metadata": {
    "ExecuteTime": {
     "end_time": "2023-04-15T07:50:17.632763Z",
     "start_time": "2023-04-15T07:50:17.195169Z"
    }
   },
   "outputs": [],
   "source": [
    "x_path = DATA_PATH / \"X_eff2.pkl\"\n",
    "with open(str(x_path), \"wb\") as f:\n",
    "    pickle.dump(X, f)"
   ]
  },
  {
   "cell_type": "code",
   "execution_count": 23,
   "id": "500b32b6",
   "metadata": {
    "ExecuteTime": {
     "end_time": "2023-04-15T07:50:18.171207Z",
     "start_time": "2023-04-15T07:50:18.117214Z"
    }
   },
   "outputs": [],
   "source": [
    "y_path = DATA_PATH / \"y_eff2.pkl\"\n",
    "with open(str(y_path), \"wb\") as f:\n",
    "    pickle.dump(y, f)"
   ]
  },
  {
   "cell_type": "code",
   "execution_count": null,
   "id": "61b50a66",
   "metadata": {},
   "outputs": [],
   "source": []
  }
 ],
 "metadata": {
  "kernelspec": {
   "display_name": "bootcamp2023_py310",
   "language": "python",
   "name": "bootcamp2023_py310"
  },
  "language_info": {
   "codemirror_mode": {
    "name": "ipython",
    "version": 3
   },
   "file_extension": ".py",
   "mimetype": "text/x-python",
   "name": "python",
   "nbconvert_exporter": "python",
   "pygments_lexer": "ipython3",
   "version": "3.10.8"
  },
  "toc": {
   "base_numbering": 1,
   "nav_menu": {},
   "number_sections": true,
   "sideBar": true,
   "skip_h1_title": false,
   "title_cell": "Table of Contents",
   "title_sidebar": "Contents",
   "toc_cell": false,
   "toc_position": {},
   "toc_section_display": true,
   "toc_window_display": false
  }
 },
 "nbformat": 4,
 "nbformat_minor": 5
}
